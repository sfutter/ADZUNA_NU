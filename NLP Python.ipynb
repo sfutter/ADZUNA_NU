{
 "cells": [
  {
   "cell_type": "code",
   "execution_count": 63,
   "metadata": {
    "collapsed": false
   },
   "outputs": [],
   "source": [
    "import pandas as pd   # import necessary libraries\n",
    "import nltk\n",
    "\n",
    "# NLP in Python\n",
    "# http://www.nltk.org/book/ch01.html"
   ]
  },
  {
   "cell_type": "code",
   "execution_count": 2,
   "metadata": {
    "collapsed": true
   },
   "outputs": [],
   "source": [
    "#Import each of the csv files you downloaded from the SSCC into a pandas df\n",
    "adzuna = pd.read_csv('~/Dropbox/NU/ADVANCED_MODELING/ADZUNA/datasets/Train_rev1.csv') "
   ]
  },
  {
   "cell_type": "code",
   "execution_count": 13,
   "metadata": {
    "collapsed": false
   },
   "outputs": [
    {
     "data": {
      "text/html": [
       "<div>\n",
       "<table border=\"1\" class=\"dataframe\">\n",
       "  <thead>\n",
       "    <tr style=\"text-align: right;\">\n",
       "      <th></th>\n",
       "      <th>Id</th>\n",
       "      <th>Title</th>\n",
       "      <th>FullDescription</th>\n",
       "      <th>LocationRaw</th>\n",
       "      <th>LocationNormalized</th>\n",
       "      <th>ContractType</th>\n",
       "      <th>ContractTime</th>\n",
       "      <th>Company</th>\n",
       "      <th>Category</th>\n",
       "      <th>SalaryRaw</th>\n",
       "      <th>SalaryNormalized</th>\n",
       "      <th>SourceName</th>\n",
       "    </tr>\n",
       "  </thead>\n",
       "  <tbody>\n",
       "    <tr>\n",
       "      <th>0</th>\n",
       "      <td>12612628</td>\n",
       "      <td>Engineering Systems Analyst</td>\n",
       "      <td>Engineering Systems Analyst Dorking Surrey Sal...</td>\n",
       "      <td>Dorking, Surrey, Surrey</td>\n",
       "      <td>Dorking</td>\n",
       "      <td>NaN</td>\n",
       "      <td>permanent</td>\n",
       "      <td>Gregory Martin International</td>\n",
       "      <td>Engineering Jobs</td>\n",
       "      <td>20000 - 30000/annum 20-30K</td>\n",
       "      <td>25000</td>\n",
       "      <td>cv-library.co.uk</td>\n",
       "    </tr>\n",
       "    <tr>\n",
       "      <th>1</th>\n",
       "      <td>12612830</td>\n",
       "      <td>Stress Engineer Glasgow</td>\n",
       "      <td>Stress Engineer Glasgow Salary **** to **** We...</td>\n",
       "      <td>Glasgow, Scotland, Scotland</td>\n",
       "      <td>Glasgow</td>\n",
       "      <td>NaN</td>\n",
       "      <td>permanent</td>\n",
       "      <td>Gregory Martin International</td>\n",
       "      <td>Engineering Jobs</td>\n",
       "      <td>25000 - 35000/annum 25-35K</td>\n",
       "      <td>30000</td>\n",
       "      <td>cv-library.co.uk</td>\n",
       "    </tr>\n",
       "  </tbody>\n",
       "</table>\n",
       "</div>"
      ],
      "text/plain": [
       "         Id                        Title  \\\n",
       "0  12612628  Engineering Systems Analyst   \n",
       "1  12612830      Stress Engineer Glasgow   \n",
       "\n",
       "                                     FullDescription  \\\n",
       "0  Engineering Systems Analyst Dorking Surrey Sal...   \n",
       "1  Stress Engineer Glasgow Salary **** to **** We...   \n",
       "\n",
       "                   LocationRaw LocationNormalized ContractType ContractTime  \\\n",
       "0      Dorking, Surrey, Surrey            Dorking          NaN    permanent   \n",
       "1  Glasgow, Scotland, Scotland            Glasgow          NaN    permanent   \n",
       "\n",
       "                        Company          Category                   SalaryRaw  \\\n",
       "0  Gregory Martin International  Engineering Jobs  20000 - 30000/annum 20-30K   \n",
       "1  Gregory Martin International  Engineering Jobs  25000 - 35000/annum 25-35K   \n",
       "\n",
       "   SalaryNormalized        SourceName  \n",
       "0             25000  cv-library.co.uk  \n",
       "1             30000  cv-library.co.uk  "
      ]
     },
     "execution_count": 13,
     "metadata": {},
     "output_type": "execute_result"
    }
   ],
   "source": [
    "adzuna.head(2)"
   ]
  },
  {
   "cell_type": "code",
   "execution_count": 66,
   "metadata": {
    "collapsed": false
   },
   "outputs": [],
   "source": [
    "des = adzuna.iloc[0]['FullDescription']"
   ]
  },
  {
   "cell_type": "code",
   "execution_count": 67,
   "metadata": {
    "collapsed": false
   },
   "outputs": [],
   "source": [
    "desToken = nltk.word_tokenize(des)"
   ]
  },
  {
   "cell_type": "code",
   "execution_count": 70,
   "metadata": {
    "collapsed": false
   },
   "outputs": [
    {
     "data": {
      "text/plain": [
       "['Engineering',\n",
       " 'Systems',\n",
       " 'Analyst',\n",
       " 'Dorking',\n",
       " 'Surrey',\n",
       " 'Salary',\n",
       " '****K',\n",
       " 'Our',\n",
       " 'client',\n",
       " 'is',\n",
       " 'located',\n",
       " 'in',\n",
       " 'Dorking',\n",
       " ',',\n",
       " 'Surrey',\n",
       " 'and',\n",
       " 'are',\n",
       " 'looking',\n",
       " 'for',\n",
       " 'Engineering',\n",
       " 'Systems',\n",
       " 'Analyst',\n",
       " 'our',\n",
       " 'client',\n",
       " 'provides',\n",
       " 'specialist',\n",
       " 'software',\n",
       " 'development',\n",
       " 'Keywords',\n",
       " 'Mathematical',\n",
       " 'Modelling',\n",
       " ',',\n",
       " 'Risk',\n",
       " 'Analysis',\n",
       " ',',\n",
       " 'System',\n",
       " 'Modelling',\n",
       " ',',\n",
       " 'Optimisation',\n",
       " ',',\n",
       " 'MISER',\n",
       " ',',\n",
       " 'PIONEEER',\n",
       " 'Engineering',\n",
       " 'Systems',\n",
       " 'Analyst',\n",
       " 'Dorking',\n",
       " 'Surrey',\n",
       " 'Salary',\n",
       " '****K']"
      ]
     },
     "execution_count": 70,
     "metadata": {},
     "output_type": "execute_result"
    }
   ],
   "source": [
    "desToken"
   ]
  },
  {
   "cell_type": "code",
   "execution_count": 71,
   "metadata": {
    "collapsed": false
   },
   "outputs": [
    {
     "data": {
      "text/plain": [
       "Counter({'****K': 2,\n",
       "         ',': 6,\n",
       "         'Analysis': 1,\n",
       "         'Analyst': 3,\n",
       "         'Dorking': 3,\n",
       "         'Engineering': 3,\n",
       "         'Keywords': 1,\n",
       "         'MISER': 1,\n",
       "         'Mathematical': 1,\n",
       "         'Modelling': 2,\n",
       "         'Optimisation': 1,\n",
       "         'Our': 1,\n",
       "         'PIONEEER': 1,\n",
       "         'Risk': 1,\n",
       "         'Salary': 2,\n",
       "         'Surrey': 3,\n",
       "         'System': 1,\n",
       "         'Systems': 3,\n",
       "         'and': 1,\n",
       "         'are': 1,\n",
       "         'client': 2,\n",
       "         'development': 1,\n",
       "         'for': 1,\n",
       "         'in': 1,\n",
       "         'is': 1,\n",
       "         'located': 1,\n",
       "         'looking': 1,\n",
       "         'our': 1,\n",
       "         'provides': 1,\n",
       "         'software': 1,\n",
       "         'specialist': 1})"
      ]
     },
     "execution_count": 71,
     "metadata": {},
     "output_type": "execute_result"
    }
   ],
   "source": [
    "nltk.FreqDist(desToken)"
   ]
  },
  {
   "cell_type": "code",
   "execution_count": 72,
   "metadata": {
    "collapsed": false
   },
   "outputs": [
    {
     "data": {
      "text/plain": [
       "[(',', 6),\n",
       " ('Dorking', 3),\n",
       " ('Engineering', 3),\n",
       " ('Systems', 3),\n",
       " ('Surrey', 3),\n",
       " ('Analyst', 3),\n",
       " ('Modelling', 2),\n",
       " ('Salary', 2),\n",
       " ('client', 2),\n",
       " ('****K', 2)]"
      ]
     },
     "execution_count": 72,
     "metadata": {},
     "output_type": "execute_result"
    }
   ],
   "source": [
    "desFreq = nltk.FreqDist(desToken)\n",
    "desFreq.most_common(10)"
   ]
  }
 ],
 "metadata": {
  "kernelspec": {
   "display_name": "Python 3",
   "language": "python",
   "name": "python3"
  }
 },
 "nbformat": 4,
 "nbformat_minor": 0
}
