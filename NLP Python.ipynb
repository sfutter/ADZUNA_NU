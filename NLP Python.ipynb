{
 "cells": [
  {
   "cell_type": "markdown",
   "metadata": {},
   "source": [
    "ADZUNA Kaggle Project\n",
    "\n",
    "- Review the nltk NLP library in Python\n",
    "- Tokenize sentences\n",
    "- Remove stopwords + Others\n",
    "\n",
    "NLP in Python: http://www.nltk.org/book/ch01.html\n",
    "\n",
    "Stem words: http://www.nltk.org/book/ch03.html  (how to remove plural endings and stemming)\n",
    "\n",
    "Most popular phrases: http://www.markhneedham.com/blog/2015/01/19/pythonnltk-finding-the-most-common-phrases-in-how-i-met-your-mother/\n",
    "\n",
    "Useful Python Tools: https://www.analyticsvidhya.com/blog/2016/01/12-pandas-techniques-python-data-manipulation/\n"
   ]
  },
  {
   "cell_type": "code",
   "execution_count": 105,
   "metadata": {
    "collapsed": false
   },
   "outputs": [],
   "source": [
    "import pandas as pd                  # import necessary libraries\n",
    "import nltk\n",
    "from nltk.corpus import stopwords\n",
    "from nltk import ngrams\n",
    "from nltk import util\n",
    "from nltk import ngrams"
   ]
  },
  {
   "cell_type": "code",
   "execution_count": 106,
   "metadata": {
    "collapsed": true
   },
   "outputs": [],
   "source": [
    "#Import each of the csv files you downloaded from the SSCC into a pandas df\n",
    "adzuna = pd.read_csv('~/Dropbox/NU/ADVANCED_MODELING/ADZUNA/datasets/Train_rev1.csv') "
   ]
  },
  {
   "cell_type": "code",
   "execution_count": 107,
   "metadata": {
    "collapsed": false
   },
   "outputs": [
    {
     "data": {
      "text/html": [
       "<div>\n",
       "<table border=\"1\" class=\"dataframe\">\n",
       "  <thead>\n",
       "    <tr style=\"text-align: right;\">\n",
       "      <th></th>\n",
       "      <th>Id</th>\n",
       "      <th>Title</th>\n",
       "      <th>FullDescription</th>\n",
       "      <th>LocationRaw</th>\n",
       "      <th>LocationNormalized</th>\n",
       "      <th>ContractType</th>\n",
       "      <th>ContractTime</th>\n",
       "      <th>Company</th>\n",
       "      <th>Category</th>\n",
       "      <th>SalaryRaw</th>\n",
       "      <th>SalaryNormalized</th>\n",
       "      <th>SourceName</th>\n",
       "    </tr>\n",
       "  </thead>\n",
       "  <tbody>\n",
       "    <tr>\n",
       "      <th>0</th>\n",
       "      <td>12612628</td>\n",
       "      <td>Engineering Systems Analyst</td>\n",
       "      <td>Engineering Systems Analyst Dorking Surrey Sal...</td>\n",
       "      <td>Dorking, Surrey, Surrey</td>\n",
       "      <td>Dorking</td>\n",
       "      <td>NaN</td>\n",
       "      <td>permanent</td>\n",
       "      <td>Gregory Martin International</td>\n",
       "      <td>Engineering Jobs</td>\n",
       "      <td>20000 - 30000/annum 20-30K</td>\n",
       "      <td>25000</td>\n",
       "      <td>cv-library.co.uk</td>\n",
       "    </tr>\n",
       "    <tr>\n",
       "      <th>1</th>\n",
       "      <td>12612830</td>\n",
       "      <td>Stress Engineer Glasgow</td>\n",
       "      <td>Stress Engineer Glasgow Salary **** to **** We...</td>\n",
       "      <td>Glasgow, Scotland, Scotland</td>\n",
       "      <td>Glasgow</td>\n",
       "      <td>NaN</td>\n",
       "      <td>permanent</td>\n",
       "      <td>Gregory Martin International</td>\n",
       "      <td>Engineering Jobs</td>\n",
       "      <td>25000 - 35000/annum 25-35K</td>\n",
       "      <td>30000</td>\n",
       "      <td>cv-library.co.uk</td>\n",
       "    </tr>\n",
       "  </tbody>\n",
       "</table>\n",
       "</div>"
      ],
      "text/plain": [
       "         Id                        Title  \\\n",
       "0  12612628  Engineering Systems Analyst   \n",
       "1  12612830      Stress Engineer Glasgow   \n",
       "\n",
       "                                     FullDescription  \\\n",
       "0  Engineering Systems Analyst Dorking Surrey Sal...   \n",
       "1  Stress Engineer Glasgow Salary **** to **** We...   \n",
       "\n",
       "                   LocationRaw LocationNormalized ContractType ContractTime  \\\n",
       "0      Dorking, Surrey, Surrey            Dorking          NaN    permanent   \n",
       "1  Glasgow, Scotland, Scotland            Glasgow          NaN    permanent   \n",
       "\n",
       "                        Company          Category                   SalaryRaw  \\\n",
       "0  Gregory Martin International  Engineering Jobs  20000 - 30000/annum 20-30K   \n",
       "1  Gregory Martin International  Engineering Jobs  25000 - 35000/annum 25-35K   \n",
       "\n",
       "   SalaryNormalized        SourceName  \n",
       "0             25000  cv-library.co.uk  \n",
       "1             30000  cv-library.co.uk  "
      ]
     },
     "execution_count": 107,
     "metadata": {},
     "output_type": "execute_result"
    }
   ],
   "source": [
    "adzuna.head(2)"
   ]
  },
  {
   "cell_type": "code",
   "execution_count": 108,
   "metadata": {
    "collapsed": false
   },
   "outputs": [],
   "source": [
    "####### Code below will get phrases of length n from a paragraph and store them in a list\n",
    "#n = 2\n",
    "#sixgrams = ngrams(sentence.split(), n)\n",
    "#ngrams = ngrams(filtered_words_lower, n)\n",
    "#ngrams\n",
    "\n",
    "#ngram_sentence = []\n",
    "#for grams in ngrams:\n",
    "# ngram_sentence.append(grams)\n",
    "\n",
    "#ngram_sentence"
   ]
  },
  {
   "cell_type": "code",
   "execution_count": 109,
   "metadata": {
    "collapsed": false
   },
   "outputs": [],
   "source": [
    "######## Code below follows on from above\n",
    "#desFreq = nltk.FreqDist(ngram_sentence)\n",
    "#desFreq.most_common(3)                   # most common 2 letter words"
   ]
  },
  {
   "cell_type": "markdown",
   "metadata": {},
   "source": [
    "Next we need to loop through each row in the adzuna data frame so that we add (initially) the most common word in a new column of the adzuna data frame. Let's first create a copy of the data frame. "
   ]
  },
  {
   "cell_type": "code",
   "execution_count": 110,
   "metadata": {
    "collapsed": true
   },
   "outputs": [],
   "source": [
    "#df1 = adzuna                       # Copy of actual data set\n",
    "#df1_test = adzuna.head(5000)       # Subset of actual data set\n",
    "df1_test = adzuna"
   ]
  },
  {
   "cell_type": "code",
   "execution_count": 111,
   "metadata": {
    "collapsed": false
   },
   "outputs": [],
   "source": [
    "def to_lower(des):\n",
    "    return(des.lower())"
   ]
  },
  {
   "cell_type": "code",
   "execution_count": 112,
   "metadata": {
    "collapsed": false
   },
   "outputs": [],
   "source": [
    "df1_test['keyword'] = df1_test['FullDescription'].apply(to_lower) "
   ]
  },
  {
   "cell_type": "code",
   "execution_count": 113,
   "metadata": {
    "collapsed": true
   },
   "outputs": [],
   "source": [
    "stops = set(stopwords.words(\"english\"))                         # create set of stop words\n",
    "stops.update([',','****K','.'])                                 # add additional words to stop words 'set'"
   ]
  },
  {
   "cell_type": "code",
   "execution_count": 114,
   "metadata": {
    "collapsed": true
   },
   "outputs": [],
   "source": [
    "def remove_stops(des):\n",
    "    token = nltk.word_tokenize(des)                     # split sentence into words                                                         \n",
    "    filtered_words = [word for word in token if word not in stops]\n",
    "    return(filtered_words)"
   ]
  },
  {
   "cell_type": "code",
   "execution_count": null,
   "metadata": {
    "collapsed": false
   },
   "outputs": [],
   "source": [
    "df1_test['keyword'] = df1_test['keyword'].apply(remove_stops)"
   ]
  },
  {
   "cell_type": "code",
   "execution_count": null,
   "metadata": {
    "collapsed": false
   },
   "outputs": [],
   "source": [
    "def get_most_common_word(des):\n",
    "    #token = nltk.word_tokenize(des)                                    # split sentence into words\n",
    "    #return(token)\n",
    "    #filtered_words = [word for word in token if word not in stops]     # filter out ALL stop words\n",
    "    filtered_words_freq = nltk.FreqDist(des)                            # get frequency of each word in des text\n",
    "    return(filtered_words_freq.most_common(1))"
   ]
  },
  {
   "cell_type": "code",
   "execution_count": null,
   "metadata": {
    "collapsed": false
   },
   "outputs": [],
   "source": [
    "df1_test['keyword'] = df1_test['keyword'].apply(get_most_common_word)"
   ]
  },
  {
   "cell_type": "code",
   "execution_count": null,
   "metadata": {
    "collapsed": true
   },
   "outputs": [],
   "source": [
    "def extract_keyword(col):\n",
    "    return(col[0][0])"
   ]
  },
  {
   "cell_type": "code",
   "execution_count": null,
   "metadata": {
    "collapsed": false
   },
   "outputs": [],
   "source": [
    "df1_test['keyword'] = df1_test['keyword'].apply(extract_keyword)"
   ]
  },
  {
   "cell_type": "code",
   "execution_count": null,
   "metadata": {
    "collapsed": false
   },
   "outputs": [],
   "source": [
    "df1_test.shape"
   ]
  },
  {
   "cell_type": "code",
   "execution_count": null,
   "metadata": {
    "collapsed": false
   },
   "outputs": [],
   "source": [
    "df1_test.head()"
   ]
  }
 ],
 "metadata": {
  "kernelspec": {
   "display_name": "Python 3",
   "language": "python",
   "name": "python3"
  },
  "language_info": {
   "codemirror_mode": {
    "name": "ipython",
    "version": 3
   },
   "file_extension": ".py",
   "mimetype": "text/x-python",
   "name": "python",
   "nbconvert_exporter": "python",
   "pygments_lexer": "ipython3",
   "version": "3.5.1"
  }
 },
 "nbformat": 4,
 "nbformat_minor": 0
}
